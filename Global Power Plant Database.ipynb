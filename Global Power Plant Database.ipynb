{
 "cells": [
  {
   "cell_type": "markdown",
   "id": "14070605",
   "metadata": {},
   "source": [
    "## Global Power Plant Database "
   ]
  },
  {
   "cell_type": "markdown",
   "id": "72964bce",
   "metadata": {},
   "source": [
    "Problem Statement:\n",
    "Description\n",
    "\n",
    "The Global Power Plant Database is a comprehensive, open source database of power plants around the world. It centralizes power plant data to make it easier to navigate, compare and draw insights for one’s own analysis. The database covers approximately 35,000 power plants from 167 countries and includes thermal plants (e.g. coal, gas, oil, nuclear, biomass, waste, geothermal) and renewables (e.g. hydro, wind, solar). Each power plant is geolocated and entries contain information on plant capacity, generation, ownership, and fuel type. It will be continuously updated as data becomes available."
   ]
  },
  {
   "cell_type": "markdown",
   "id": "999d4458",
   "metadata": {},
   "source": [
    "Fuel Type Aggregation\n",
    "We define the \"Fuel Type\" attribute of our database based on common fuel categories. \n",
    "\n",
    "Prediction :   Make two prediction  1) Primary Fuel    2) capacity_mw "
   ]
  },
  {
   "cell_type": "code",
   "execution_count": 1,
   "id": "012e8c03",
   "metadata": {},
   "outputs": [],
   "source": [
    "# Importing necessary libraries\n",
    "import pandas as pd\n",
    "import numpy as np\n",
    "import seaborn as sns\n",
    "import matplotlib.pyplot as plt\n",
    "%matplotlib inline\n",
    "\n",
    "import warnings\n",
    "warnings.simplefilter(\"ignore\")\n",
    "warnings.filterwarnings(\"ignore\")\n",
    "import joblib\n",
    "\n",
    "from sklearn import metrics\n",
    "from scipy.stats import zscore\n",
    "from sklearn.preprocessing import LabelEncoder\n",
    "from sklearn.preprocessing import OrdinalEncoder\n",
    "from sklearn.preprocessing import StandardScaler\n",
    "from sklearn.model_selection import train_test_split\n",
    "from sklearn.model_selection import cross_val_score\n",
    "from sklearn.model_selection import GridSearchCV\n",
    "\n",
    "# Classification\n",
    "\n",
    "from imblearn.over_sampling import SMOTE\n",
    "from sklearn.linear_model import LogisticRegression\n",
    "from sklearn.svm import SVC\n",
    "from sklearn.tree import DecisionTreeClassifier\n",
    "from sklearn.ensemble import RandomForestClassifier\n",
    "from sklearn.ensemble import ExtraTreesClassifier\n",
    "from sklearn.neighbors import KNeighborsClassifier\n",
    "from sklearn.metrics import classification_report\n",
    "from sklearn.metrics import accuracy_score\n",
    "from sklearn.metrics import roc_auc_score\n",
    "\n",
    "# Regression\n",
    "from sklearn.linear_model import LinearRegression, Ridge, Lasso\n",
    "from sklearn.svm import SVR\n",
    "from sklearn.tree import DecisionTreeRegressor\n",
    "from sklearn.ensemble import RandomForestRegressor\n",
    "from sklearn.neighbors import KNeighborsRegressor\n",
    "from sklearn.ensemble import AdaBoostRegressor\n",
    "from sklearn.ensemble import ExtraTreesRegressor\n",
    "from sklearn.ensemble import GradientBoostingRegressor\n",
    "from xgboost import XGBRegressor\n",
    "from sklearn.metrics import r2_score\n",
    "from sklearn.metrics import mean_squared_error"
   ]
  },
  {
   "cell_type": "code",
   "execution_count": 2,
   "id": "e1d55e59",
   "metadata": {},
   "outputs": [
    {
     "data": {
      "text/html": [
       "<div>\n",
       "<style scoped>\n",
       "    .dataframe tbody tr th:only-of-type {\n",
       "        vertical-align: middle;\n",
       "    }\n",
       "\n",
       "    .dataframe tbody tr th {\n",
       "        vertical-align: top;\n",
       "    }\n",
       "\n",
       "    .dataframe thead th {\n",
       "        text-align: right;\n",
       "    }\n",
       "</style>\n",
       "<table border=\"1\" class=\"dataframe\">\n",
       "  <thead>\n",
       "    <tr style=\"text-align: right;\">\n",
       "      <th></th>\n",
       "      <th>country</th>\n",
       "      <th>country_long</th>\n",
       "      <th>name</th>\n",
       "      <th>gppd_idnr</th>\n",
       "      <th>capacity_mw</th>\n",
       "      <th>latitude</th>\n",
       "      <th>longitude</th>\n",
       "      <th>primary_fuel</th>\n",
       "      <th>other_fuel1</th>\n",
       "      <th>other_fuel2</th>\n",
       "      <th>...</th>\n",
       "      <th>year_of_capacity_data</th>\n",
       "      <th>generation_gwh_2013</th>\n",
       "      <th>generation_gwh_2014</th>\n",
       "      <th>generation_gwh_2015</th>\n",
       "      <th>generation_gwh_2016</th>\n",
       "      <th>generation_gwh_2017</th>\n",
       "      <th>generation_gwh_2018</th>\n",
       "      <th>generation_gwh_2019</th>\n",
       "      <th>generation_data_source</th>\n",
       "      <th>estimated_generation_gwh</th>\n",
       "    </tr>\n",
       "  </thead>\n",
       "  <tbody>\n",
       "    <tr>\n",
       "      <th>0</th>\n",
       "      <td>IND</td>\n",
       "      <td>India</td>\n",
       "      <td>ACME Solar Tower</td>\n",
       "      <td>WRI1020239</td>\n",
       "      <td>2.5</td>\n",
       "      <td>28.1839</td>\n",
       "      <td>73.2407</td>\n",
       "      <td>Solar</td>\n",
       "      <td>NaN</td>\n",
       "      <td>NaN</td>\n",
       "      <td>...</td>\n",
       "      <td>NaN</td>\n",
       "      <td>NaN</td>\n",
       "      <td>NaN</td>\n",
       "      <td>NaN</td>\n",
       "      <td>NaN</td>\n",
       "      <td>NaN</td>\n",
       "      <td>NaN</td>\n",
       "      <td>NaN</td>\n",
       "      <td>NaN</td>\n",
       "      <td>NaN</td>\n",
       "    </tr>\n",
       "    <tr>\n",
       "      <th>1</th>\n",
       "      <td>IND</td>\n",
       "      <td>India</td>\n",
       "      <td>ADITYA CEMENT WORKS</td>\n",
       "      <td>WRI1019881</td>\n",
       "      <td>98.0</td>\n",
       "      <td>24.7663</td>\n",
       "      <td>74.6090</td>\n",
       "      <td>Coal</td>\n",
       "      <td>NaN</td>\n",
       "      <td>NaN</td>\n",
       "      <td>...</td>\n",
       "      <td>NaN</td>\n",
       "      <td>NaN</td>\n",
       "      <td>NaN</td>\n",
       "      <td>NaN</td>\n",
       "      <td>NaN</td>\n",
       "      <td>NaN</td>\n",
       "      <td>NaN</td>\n",
       "      <td>NaN</td>\n",
       "      <td>NaN</td>\n",
       "      <td>NaN</td>\n",
       "    </tr>\n",
       "    <tr>\n",
       "      <th>2</th>\n",
       "      <td>IND</td>\n",
       "      <td>India</td>\n",
       "      <td>AES Saurashtra Windfarms</td>\n",
       "      <td>WRI1026669</td>\n",
       "      <td>39.2</td>\n",
       "      <td>21.9038</td>\n",
       "      <td>69.3732</td>\n",
       "      <td>Wind</td>\n",
       "      <td>NaN</td>\n",
       "      <td>NaN</td>\n",
       "      <td>...</td>\n",
       "      <td>NaN</td>\n",
       "      <td>NaN</td>\n",
       "      <td>NaN</td>\n",
       "      <td>NaN</td>\n",
       "      <td>NaN</td>\n",
       "      <td>NaN</td>\n",
       "      <td>NaN</td>\n",
       "      <td>NaN</td>\n",
       "      <td>NaN</td>\n",
       "      <td>NaN</td>\n",
       "    </tr>\n",
       "    <tr>\n",
       "      <th>3</th>\n",
       "      <td>IND</td>\n",
       "      <td>India</td>\n",
       "      <td>AGARTALA GT</td>\n",
       "      <td>IND0000001</td>\n",
       "      <td>135.0</td>\n",
       "      <td>23.8712</td>\n",
       "      <td>91.3602</td>\n",
       "      <td>Gas</td>\n",
       "      <td>NaN</td>\n",
       "      <td>NaN</td>\n",
       "      <td>...</td>\n",
       "      <td>2019.0</td>\n",
       "      <td>NaN</td>\n",
       "      <td>617.789264</td>\n",
       "      <td>843.747</td>\n",
       "      <td>886.004428</td>\n",
       "      <td>663.774500</td>\n",
       "      <td>626.239128</td>\n",
       "      <td>NaN</td>\n",
       "      <td>Central Electricity Authority</td>\n",
       "      <td>NaN</td>\n",
       "    </tr>\n",
       "    <tr>\n",
       "      <th>4</th>\n",
       "      <td>IND</td>\n",
       "      <td>India</td>\n",
       "      <td>AKALTARA TPP</td>\n",
       "      <td>IND0000002</td>\n",
       "      <td>1800.0</td>\n",
       "      <td>21.9603</td>\n",
       "      <td>82.4091</td>\n",
       "      <td>Coal</td>\n",
       "      <td>Oil</td>\n",
       "      <td>NaN</td>\n",
       "      <td>...</td>\n",
       "      <td>2019.0</td>\n",
       "      <td>NaN</td>\n",
       "      <td>3035.550000</td>\n",
       "      <td>5916.370</td>\n",
       "      <td>6243.000000</td>\n",
       "      <td>5385.579736</td>\n",
       "      <td>7279.000000</td>\n",
       "      <td>NaN</td>\n",
       "      <td>Central Electricity Authority</td>\n",
       "      <td>NaN</td>\n",
       "    </tr>\n",
       "  </tbody>\n",
       "</table>\n",
       "<p>5 rows × 27 columns</p>\n",
       "</div>"
      ],
      "text/plain": [
       "  country country_long                      name   gppd_idnr  capacity_mw  \\\n",
       "0     IND        India          ACME Solar Tower  WRI1020239          2.5   \n",
       "1     IND        India       ADITYA CEMENT WORKS  WRI1019881         98.0   \n",
       "2     IND        India  AES Saurashtra Windfarms  WRI1026669         39.2   \n",
       "3     IND        India               AGARTALA GT  IND0000001        135.0   \n",
       "4     IND        India              AKALTARA TPP  IND0000002       1800.0   \n",
       "\n",
       "   latitude  longitude primary_fuel other_fuel1 other_fuel2  ...  \\\n",
       "0   28.1839    73.2407        Solar         NaN         NaN  ...   \n",
       "1   24.7663    74.6090         Coal         NaN         NaN  ...   \n",
       "2   21.9038    69.3732         Wind         NaN         NaN  ...   \n",
       "3   23.8712    91.3602          Gas         NaN         NaN  ...   \n",
       "4   21.9603    82.4091         Coal         Oil         NaN  ...   \n",
       "\n",
       "   year_of_capacity_data  generation_gwh_2013 generation_gwh_2014  \\\n",
       "0                    NaN                  NaN                 NaN   \n",
       "1                    NaN                  NaN                 NaN   \n",
       "2                    NaN                  NaN                 NaN   \n",
       "3                 2019.0                  NaN          617.789264   \n",
       "4                 2019.0                  NaN         3035.550000   \n",
       "\n",
       "  generation_gwh_2015 generation_gwh_2016 generation_gwh_2017  \\\n",
       "0                 NaN                 NaN                 NaN   \n",
       "1                 NaN                 NaN                 NaN   \n",
       "2                 NaN                 NaN                 NaN   \n",
       "3             843.747          886.004428          663.774500   \n",
       "4            5916.370         6243.000000         5385.579736   \n",
       "\n",
       "   generation_gwh_2018  generation_gwh_2019         generation_data_source  \\\n",
       "0                  NaN                  NaN                            NaN   \n",
       "1                  NaN                  NaN                            NaN   \n",
       "2                  NaN                  NaN                            NaN   \n",
       "3           626.239128                  NaN  Central Electricity Authority   \n",
       "4          7279.000000                  NaN  Central Electricity Authority   \n",
       "\n",
       "   estimated_generation_gwh  \n",
       "0                       NaN  \n",
       "1                       NaN  \n",
       "2                       NaN  \n",
       "3                       NaN  \n",
       "4                       NaN  \n",
       "\n",
       "[5 rows x 27 columns]"
      ]
     },
     "execution_count": 2,
     "metadata": {},
     "output_type": "execute_result"
    }
   ],
   "source": [
    "# importing the Dataset\n",
    "\n",
    "df=pd.read_csv(\"database_IND.csv\")\n",
    "df.head()"
   ]
  },
  {
   "cell_type": "code",
   "execution_count": 3,
   "id": "e31d8028",
   "metadata": {},
   "outputs": [
    {
     "data": {
      "text/plain": [
       "pandas.core.frame.DataFrame"
      ]
     },
     "execution_count": 3,
     "metadata": {},
     "output_type": "execute_result"
    }
   ],
   "source": [
    "type(df)"
   ]
  },
  {
   "cell_type": "code",
   "execution_count": 4,
   "id": "19c6f064",
   "metadata": {},
   "outputs": [
    {
     "data": {
      "text/plain": [
       "(907, 27)"
      ]
     },
     "execution_count": 4,
     "metadata": {},
     "output_type": "execute_result"
    }
   ],
   "source": [
    "df.shape"
   ]
  },
  {
   "cell_type": "code",
   "execution_count": 5,
   "id": "ffc5722b",
   "metadata": {},
   "outputs": [
    {
     "data": {
      "text/plain": [
       "country                       0\n",
       "country_long                  0\n",
       "name                          0\n",
       "gppd_idnr                     0\n",
       "capacity_mw                   0\n",
       "latitude                     46\n",
       "longitude                    46\n",
       "primary_fuel                  0\n",
       "other_fuel1                 709\n",
       "other_fuel2                 906\n",
       "other_fuel3                 907\n",
       "commissioning_year          380\n",
       "owner                       565\n",
       "source                        0\n",
       "url                           0\n",
       "geolocation_source           19\n",
       "wepp_id                     907\n",
       "year_of_capacity_data       388\n",
       "generation_gwh_2013         907\n",
       "generation_gwh_2014         509\n",
       "generation_gwh_2015         485\n",
       "generation_gwh_2016         473\n",
       "generation_gwh_2017         467\n",
       "generation_gwh_2018         459\n",
       "generation_gwh_2019         907\n",
       "generation_data_source      458\n",
       "estimated_generation_gwh    907\n",
       "dtype: int64"
      ]
     },
     "execution_count": 5,
     "metadata": {},
     "output_type": "execute_result"
    }
   ],
   "source": [
    "df.isnull().sum()"
   ]
  },
  {
   "cell_type": "code",
   "execution_count": 22,
   "id": "477820e1",
   "metadata": {},
   "outputs": [
    {
     "data": {
      "text/plain": [
       "Index(['country', 'country_long', 'name', 'gppd_idnr', 'capacity_mw',\n",
       "       'latitude', 'longitude', 'primary_fuel', 'other_fuel1', 'other_fuel2',\n",
       "       'other_fuel3', 'commissioning_year', 'owner', 'source', 'url',\n",
       "       'geolocation_source', 'wepp_id', 'year_of_capacity_data',\n",
       "       'generation_gwh_2013', 'generation_gwh_2014', 'generation_gwh_2015',\n",
       "       'generation_gwh_2016', 'generation_gwh_2017', 'generation_gwh_2018',\n",
       "       'generation_gwh_2019', 'generation_data_source',\n",
       "       'estimated_generation_gwh'],\n",
       "      dtype='object')"
      ]
     },
     "execution_count": 22,
     "metadata": {},
     "output_type": "execute_result"
    }
   ],
   "source": [
    "df.columns"
   ]
  },
  {
   "cell_type": "code",
   "execution_count": 23,
   "id": "eea81dcc",
   "metadata": {},
   "outputs": [],
   "source": [
    "# Acc to the info we have higher null values so droping some of the columns\n",
    "\n",
    "df.drop([\"latitude\", \"longitude\", \"other_fuel1\", \"other_fuel2\",\n",
    "       \"other_fuel3\", \"commissioning_year\", \"owner\",\"name\",\n",
    "       \"geolocation_source\", \"wepp_id\", \"year_of_capacity_data\",\n",
    "       \"generation_gwh_2013\", \"generation_gwh_2014\", \"generation_gwh_2015\",\n",
    "       \"generation_gwh_2016\", \"generation_gwh_2017\", \"generation_gwh_2018\",\n",
    "       \"generation_gwh_2019\", \"generation_data_source\",\n",
    "       \"estimated_generation_gwh\"], axis = 1, inplace=True)"
   ]
  },
  {
   "cell_type": "code",
   "execution_count": 24,
   "id": "fec596c3",
   "metadata": {},
   "outputs": [
    {
     "data": {
      "text/html": [
       "<div>\n",
       "<style scoped>\n",
       "    .dataframe tbody tr th:only-of-type {\n",
       "        vertical-align: middle;\n",
       "    }\n",
       "\n",
       "    .dataframe tbody tr th {\n",
       "        vertical-align: top;\n",
       "    }\n",
       "\n",
       "    .dataframe thead th {\n",
       "        text-align: right;\n",
       "    }\n",
       "</style>\n",
       "<table border=\"1\" class=\"dataframe\">\n",
       "  <thead>\n",
       "    <tr style=\"text-align: right;\">\n",
       "      <th></th>\n",
       "      <th>country</th>\n",
       "      <th>country_long</th>\n",
       "      <th>gppd_idnr</th>\n",
       "      <th>capacity_mw</th>\n",
       "      <th>primary_fuel</th>\n",
       "      <th>source</th>\n",
       "      <th>url</th>\n",
       "    </tr>\n",
       "  </thead>\n",
       "  <tbody>\n",
       "    <tr>\n",
       "      <th>0</th>\n",
       "      <td>IND</td>\n",
       "      <td>India</td>\n",
       "      <td>WRI1020239</td>\n",
       "      <td>2.5</td>\n",
       "      <td>Solar</td>\n",
       "      <td>National Renewable Energy Laboratory</td>\n",
       "      <td>http://www.nrel.gov/csp/solarpaces/project_det...</td>\n",
       "    </tr>\n",
       "    <tr>\n",
       "      <th>1</th>\n",
       "      <td>IND</td>\n",
       "      <td>India</td>\n",
       "      <td>WRI1019881</td>\n",
       "      <td>98.0</td>\n",
       "      <td>Coal</td>\n",
       "      <td>Ultratech Cement ltd</td>\n",
       "      <td>http://www.ultratechcement.com/</td>\n",
       "    </tr>\n",
       "    <tr>\n",
       "      <th>2</th>\n",
       "      <td>IND</td>\n",
       "      <td>India</td>\n",
       "      <td>WRI1026669</td>\n",
       "      <td>39.2</td>\n",
       "      <td>Wind</td>\n",
       "      <td>CDM</td>\n",
       "      <td>https://cdm.unfccc.int/Projects/DB/DNV-CUK1328...</td>\n",
       "    </tr>\n",
       "    <tr>\n",
       "      <th>3</th>\n",
       "      <td>IND</td>\n",
       "      <td>India</td>\n",
       "      <td>IND0000001</td>\n",
       "      <td>135.0</td>\n",
       "      <td>Gas</td>\n",
       "      <td>Central Electricity Authority</td>\n",
       "      <td>http://www.cea.nic.in/</td>\n",
       "    </tr>\n",
       "    <tr>\n",
       "      <th>4</th>\n",
       "      <td>IND</td>\n",
       "      <td>India</td>\n",
       "      <td>IND0000002</td>\n",
       "      <td>1800.0</td>\n",
       "      <td>Coal</td>\n",
       "      <td>Central Electricity Authority</td>\n",
       "      <td>http://www.cea.nic.in/</td>\n",
       "    </tr>\n",
       "  </tbody>\n",
       "</table>\n",
       "</div>"
      ],
      "text/plain": [
       "  country country_long   gppd_idnr  capacity_mw primary_fuel  \\\n",
       "0     IND        India  WRI1020239          2.5        Solar   \n",
       "1     IND        India  WRI1019881         98.0         Coal   \n",
       "2     IND        India  WRI1026669         39.2         Wind   \n",
       "3     IND        India  IND0000001        135.0          Gas   \n",
       "4     IND        India  IND0000002       1800.0         Coal   \n",
       "\n",
       "                                 source  \\\n",
       "0  National Renewable Energy Laboratory   \n",
       "1                  Ultratech Cement ltd   \n",
       "2                                   CDM   \n",
       "3         Central Electricity Authority   \n",
       "4         Central Electricity Authority   \n",
       "\n",
       "                                                 url  \n",
       "0  http://www.nrel.gov/csp/solarpaces/project_det...  \n",
       "1                    http://www.ultratechcement.com/  \n",
       "2  https://cdm.unfccc.int/Projects/DB/DNV-CUK1328...  \n",
       "3                             http://www.cea.nic.in/  \n",
       "4                             http://www.cea.nic.in/  "
      ]
     },
     "execution_count": 24,
     "metadata": {},
     "output_type": "execute_result"
    }
   ],
   "source": [
    "df.head()"
   ]
  },
  {
   "cell_type": "code",
   "execution_count": 25,
   "id": "5407873f",
   "metadata": {},
   "outputs": [
    {
     "name": "stdout",
     "output_type": "stream",
     "text": [
      "<class 'pandas.core.frame.DataFrame'>\n",
      "RangeIndex: 907 entries, 0 to 906\n",
      "Data columns (total 7 columns):\n",
      " #   Column        Non-Null Count  Dtype  \n",
      "---  ------        --------------  -----  \n",
      " 0   country       907 non-null    object \n",
      " 1   country_long  907 non-null    object \n",
      " 2   gppd_idnr     907 non-null    object \n",
      " 3   capacity_mw   907 non-null    float64\n",
      " 4   primary_fuel  907 non-null    object \n",
      " 5   source        907 non-null    object \n",
      " 6   url           907 non-null    object \n",
      "dtypes: float64(1), object(6)\n",
      "memory usage: 49.7+ KB\n"
     ]
    }
   ],
   "source": [
    "df.info()"
   ]
  },
  {
   "cell_type": "code",
   "execution_count": 26,
   "id": "bb46af19",
   "metadata": {},
   "outputs": [
    {
     "data": {
      "text/html": [
       "<div>\n",
       "<style scoped>\n",
       "    .dataframe tbody tr th:only-of-type {\n",
       "        vertical-align: middle;\n",
       "    }\n",
       "\n",
       "    .dataframe tbody tr th {\n",
       "        vertical-align: top;\n",
       "    }\n",
       "\n",
       "    .dataframe thead th {\n",
       "        text-align: right;\n",
       "    }\n",
       "</style>\n",
       "<table border=\"1\" class=\"dataframe\">\n",
       "  <thead>\n",
       "    <tr style=\"text-align: right;\">\n",
       "      <th></th>\n",
       "      <th>Unique Values</th>\n",
       "    </tr>\n",
       "  </thead>\n",
       "  <tbody>\n",
       "    <tr>\n",
       "      <th>country</th>\n",
       "      <td>1</td>\n",
       "    </tr>\n",
       "    <tr>\n",
       "      <th>country_long</th>\n",
       "      <td>1</td>\n",
       "    </tr>\n",
       "    <tr>\n",
       "      <th>gppd_idnr</th>\n",
       "      <td>907</td>\n",
       "    </tr>\n",
       "    <tr>\n",
       "      <th>capacity_mw</th>\n",
       "      <td>361</td>\n",
       "    </tr>\n",
       "    <tr>\n",
       "      <th>primary_fuel</th>\n",
       "      <td>8</td>\n",
       "    </tr>\n",
       "    <tr>\n",
       "      <th>source</th>\n",
       "      <td>191</td>\n",
       "    </tr>\n",
       "    <tr>\n",
       "      <th>url</th>\n",
       "      <td>304</td>\n",
       "    </tr>\n",
       "  </tbody>\n",
       "</table>\n",
       "</div>"
      ],
      "text/plain": [
       "              Unique Values\n",
       "country                   1\n",
       "country_long              1\n",
       "gppd_idnr               907\n",
       "capacity_mw             361\n",
       "primary_fuel              8\n",
       "source                  191\n",
       "url                     304"
      ]
     },
     "execution_count": 26,
     "metadata": {},
     "output_type": "execute_result"
    }
   ],
   "source": [
    "df.nunique().to_frame(\"Unique Values\")"
   ]
  },
  {
   "cell_type": "code",
   "execution_count": 28,
   "id": "346adc93",
   "metadata": {},
   "outputs": [
    {
     "data": {
      "text/html": [
       "<div>\n",
       "<style scoped>\n",
       "    .dataframe tbody tr th:only-of-type {\n",
       "        vertical-align: middle;\n",
       "    }\n",
       "\n",
       "    .dataframe tbody tr th {\n",
       "        vertical-align: top;\n",
       "    }\n",
       "\n",
       "    .dataframe thead th {\n",
       "        text-align: right;\n",
       "    }\n",
       "</style>\n",
       "<table border=\"1\" class=\"dataframe\">\n",
       "  <thead>\n",
       "    <tr style=\"text-align: right;\">\n",
       "      <th></th>\n",
       "      <th>country</th>\n",
       "      <th>country_long</th>\n",
       "      <th>gppd_idnr</th>\n",
       "      <th>capacity_mw</th>\n",
       "      <th>primary_fuel</th>\n",
       "      <th>source</th>\n",
       "      <th>url</th>\n",
       "    </tr>\n",
       "  </thead>\n",
       "  <tbody>\n",
       "    <tr>\n",
       "      <th>0</th>\n",
       "      <td>0</td>\n",
       "      <td>0</td>\n",
       "      <td>657</td>\n",
       "      <td>117</td>\n",
       "      <td>6</td>\n",
       "      <td>109</td>\n",
       "      <td>128</td>\n",
       "    </tr>\n",
       "    <tr>\n",
       "      <th>1</th>\n",
       "      <td>0</td>\n",
       "      <td>0</td>\n",
       "      <td>519</td>\n",
       "      <td>357</td>\n",
       "      <td>1</td>\n",
       "      <td>174</td>\n",
       "      <td>173</td>\n",
       "    </tr>\n",
       "    <tr>\n",
       "      <th>2</th>\n",
       "      <td>0</td>\n",
       "      <td>0</td>\n",
       "      <td>853</td>\n",
       "      <td>222</td>\n",
       "      <td>7</td>\n",
       "      <td>21</td>\n",
       "      <td>205</td>\n",
       "    </tr>\n",
       "    <tr>\n",
       "      <th>3</th>\n",
       "      <td>0</td>\n",
       "      <td>0</td>\n",
       "      <td>0</td>\n",
       "      <td>56</td>\n",
       "      <td>2</td>\n",
       "      <td>22</td>\n",
       "      <td>58</td>\n",
       "    </tr>\n",
       "    <tr>\n",
       "      <th>4</th>\n",
       "      <td>0</td>\n",
       "      <td>0</td>\n",
       "      <td>1</td>\n",
       "      <td>100</td>\n",
       "      <td>1</td>\n",
       "      <td>22</td>\n",
       "      <td>58</td>\n",
       "    </tr>\n",
       "    <tr>\n",
       "      <th>...</th>\n",
       "      <td>...</td>\n",
       "      <td>...</td>\n",
       "      <td>...</td>\n",
       "      <td>...</td>\n",
       "      <td>...</td>\n",
       "      <td>...</td>\n",
       "      <td>...</td>\n",
       "    </tr>\n",
       "    <tr>\n",
       "      <th>902</th>\n",
       "      <td>0</td>\n",
       "      <td>0</td>\n",
       "      <td>491</td>\n",
       "      <td>83</td>\n",
       "      <td>1</td>\n",
       "      <td>22</td>\n",
       "      <td>58</td>\n",
       "    </tr>\n",
       "    <tr>\n",
       "      <th>903</th>\n",
       "      <td>0</td>\n",
       "      <td>0</td>\n",
       "      <td>822</td>\n",
       "      <td>175</td>\n",
       "      <td>6</td>\n",
       "      <td>77</td>\n",
       "      <td>22</td>\n",
       "    </tr>\n",
       "    <tr>\n",
       "      <th>904</th>\n",
       "      <td>0</td>\n",
       "      <td>0</td>\n",
       "      <td>891</td>\n",
       "      <td>149</td>\n",
       "      <td>7</td>\n",
       "      <td>21</td>\n",
       "      <td>260</td>\n",
       "    </tr>\n",
       "    <tr>\n",
       "      <th>905</th>\n",
       "      <td>0</td>\n",
       "      <td>0</td>\n",
       "      <td>539</td>\n",
       "      <td>333</td>\n",
       "      <td>1</td>\n",
       "      <td>59</td>\n",
       "      <td>82</td>\n",
       "    </tr>\n",
       "    <tr>\n",
       "      <th>906</th>\n",
       "      <td>0</td>\n",
       "      <td>0</td>\n",
       "      <td>876</td>\n",
       "      <td>80</td>\n",
       "      <td>7</td>\n",
       "      <td>21</td>\n",
       "      <td>245</td>\n",
       "    </tr>\n",
       "  </tbody>\n",
       "</table>\n",
       "<p>907 rows × 7 columns</p>\n",
       "</div>"
      ],
      "text/plain": [
       "     country  country_long  gppd_idnr  capacity_mw  primary_fuel  source  url\n",
       "0          0             0        657          117             6     109  128\n",
       "1          0             0        519          357             1     174  173\n",
       "2          0             0        853          222             7      21  205\n",
       "3          0             0          0           56             2      22   58\n",
       "4          0             0          1          100             1      22   58\n",
       "..       ...           ...        ...          ...           ...     ...  ...\n",
       "902        0             0        491           83             1      22   58\n",
       "903        0             0        822          175             6      77   22\n",
       "904        0             0        891          149             7      21  260\n",
       "905        0             0        539          333             1      59   82\n",
       "906        0             0        876           80             7      21  245\n",
       "\n",
       "[907 rows x 7 columns]"
      ]
     },
     "execution_count": 28,
     "metadata": {},
     "output_type": "execute_result"
    }
   ],
   "source": [
    "# Converting the object datatype to float data type\n",
    "\n",
    "#Label Encoder\n",
    "le = LabelEncoder()\n",
    "list1=['country','country_long','gppd_idnr','capacity_mw','primary_fuel','source','url']\n",
    "for val in list1:\n",
    "    df[val]=le.fit_transform(df[val].astype(str))\n",
    "df\n"
   ]
  },
  {
   "cell_type": "code",
   "execution_count": 29,
   "id": "fcee7530",
   "metadata": {},
   "outputs": [
    {
     "data": {
      "text/plain": [
       "country         0.000000\n",
       "country_long    0.000000\n",
       "gppd_idnr       0.000000\n",
       "capacity_mw     0.013064\n",
       "primary_fuel    0.472251\n",
       "source          1.827373\n",
       "url             1.510537\n",
       "dtype: float64"
      ]
     },
     "execution_count": 29,
     "metadata": {},
     "output_type": "execute_result"
    }
   ],
   "source": [
    "# EDA\n",
    "\n",
    "df.skew()"
   ]
  },
  {
   "cell_type": "code",
   "execution_count": 33,
   "id": "0feed8ac",
   "metadata": {},
   "outputs": [
    {
     "data": {
      "text/plain": [
       "(array([ 71,  80, 191, 299, 321, 345, 661, 669, 689, 832, 870, 871, 879,\n",
       "        895, 900], dtype=int64),\n",
       " array([5, 5, 5, 5, 5, 5, 5, 5, 5, 5, 5, 5, 5, 5, 5], dtype=int64))"
      ]
     },
     "execution_count": 33,
     "metadata": {},
     "output_type": "execute_result"
    }
   ],
   "source": [
    "z=np.abs(zscore(df))\n",
    "threshold = 3\n",
    "np.where(z>3)"
   ]
  },
  {
   "cell_type": "code",
   "execution_count": 35,
   "id": "b67572d5",
   "metadata": {},
   "outputs": [
    {
     "data": {
      "image/png": "[encoded data removed]",
      "text/plain": [
       "<Figure size 648x432 with 2 Axes>"
      ]
     },
     "metadata": {
      "needs_background": "light"
     },
     "output_type": "display_data"
    }
   ],
   "source": [
    "upper_triangle = np.triu(df.corr())\n",
    "plt.figure(figsize=(9,6))\n",
    "sns.heatmap(df.corr(), vmin=-1, vmax=1, annot=True, square=True, fmt='0.3f', \n",
    "            annot_kws={'size':10}, cmap=\"cubehelix\", mask=upper_triangle)\n",
    "plt.xticks(fontsize=14)\n",
    "plt.yticks(fontsize=14)\n",
    "plt.show()\n"
   ]
  },
  {
   "cell_type": "code",
   "execution_count": 36,
   "id": "88f721b2",
   "metadata": {},
   "outputs": [
    {
     "data": {
      "image/png": "[encoded data removed]",
      "text/plain": [
       "<Figure size 720x360 with 1 Axes>"
      ]
     },
     "metadata": {},
     "output_type": "display_data"
    }
   ],
   "source": [
    "plt.style.use('dark_background')\n",
    "df_corr = df.corr()\n",
    "plt.figure(figsize=(10,5))\n",
    "df_corr['primary_fuel'].sort_values(ascending=False).drop('primary_fuel').plot.bar()\n",
    "plt.title(\"Correlation of Features vs Classification Label\\n\", fontsize=16)\n",
    "plt.xlabel(\"\\nFeatures List\", fontsize=14)\n",
    "plt.ylabel(\"Correlation Value\", fontsize=12)\n",
    "plt.show()"
   ]
  },
  {
   "cell_type": "code",
   "execution_count": 37,
   "id": "ef5ea459",
   "metadata": {},
   "outputs": [
    {
     "data": {
      "image/png": "[encoded data removed]",
      "text/plain": [
       "<Figure size 720x360 with 1 Axes>"
      ]
     },
     "metadata": {},
     "output_type": "display_data"
    }
   ],
   "source": [
    "df_corr = df.corr()\n",
    "plt.figure(figsize=(10,5))\n",
    "df_corr['capacity_mw'].sort_values(ascending=False).drop('capacity_mw').plot.bar()\n",
    "plt.title(\"Correlation of Features vs Regression Label\\n\", fontsize=16)\n",
    "plt.xlabel(\"\\nFeatures List\", fontsize=14)\n",
    "plt.ylabel(\"Correlation Value\", fontsize=12)\n",
    "plt.show()"
   ]
  },
  {
   "cell_type": "code",
   "execution_count": 38,
   "id": "7d33ad85",
   "metadata": {},
   "outputs": [
    {
     "name": "stdout",
     "output_type": "stream",
     "text": [
      "Shape of the dataframe before removing outliers:  (907, 7)\n",
      "Shape of the dataframe after removing outliers:  (0, 7)\n",
      "Percentage of data loss post outlier removal:  100.0\n"
     ]
    }
   ],
   "source": [
    "z = np.abs(zscore(df))\n",
    "threshold = 3\n",
    "df1 = df[(z<3).all(axis = 1)]\n",
    "\n",
    "print (\"Shape of the dataframe before removing outliers: \", df.shape)\n",
    "print (\"Shape of the dataframe after removing outliers: \", df1.shape)\n",
    "print (\"Percentage of data loss post outlier removal: \", (df.shape[0]-df1.shape[0])/df.shape[0]*100)\n"
   ]
  },
  {
   "cell_type": "code",
   "execution_count": 39,
   "id": "55119fe0",
   "metadata": {},
   "outputs": [
    {
     "data": {
      "text/plain": [
       "capacity_mw     0.002102\n",
       "source          0.053613\n",
       "url             0.589886\n",
       "gppd_idnr       0.609180\n",
       "primary_fuel    1.000000\n",
       "country              NaN\n",
       "country_long         NaN\n",
       "Name: primary_fuel, dtype: float64"
      ]
     },
     "execution_count": 39,
     "metadata": {},
     "output_type": "execute_result"
    }
   ],
   "source": [
    "df.corr()['primary_fuel'].sort_values()"
   ]
  },
  {
   "cell_type": "code",
   "execution_count": 40,
   "id": "6a5e824f",
   "metadata": {},
   "outputs": [
    {
     "data": {
      "text/plain": [
       "source         -0.135287\n",
       "gppd_idnr      -0.075317\n",
       "url            -0.046483\n",
       "primary_fuel    0.002102\n",
       "capacity_mw     1.000000\n",
       "country              NaN\n",
       "country_long         NaN\n",
       "Name: capacity_mw, dtype: float64"
      ]
     },
     "execution_count": 40,
     "metadata": {},
     "output_type": "execute_result"
    }
   ],
   "source": [
    "df.corr()['capacity_mw'].sort_values()"
   ]
  },
  {
   "cell_type": "code",
   "execution_count": 42,
   "id": "34ffcd39",
   "metadata": {},
   "outputs": [],
   "source": [
    "x=df.drop(\"primary_fuel\", axis=1)\n",
    "y=df[\"primary_fuel\"]"
   ]
  },
  {
   "cell_type": "code",
   "execution_count": 43,
   "id": "06da2c5f",
   "metadata": {},
   "outputs": [],
   "source": [
    "x_train,x_test,y_train,y_test = train_test_split(x,y,test_size=0.22,random_state=43)"
   ]
  },
  {
   "cell_type": "code",
   "execution_count": 47,
   "id": "cd4fd5d8",
   "metadata": {},
   "outputs": [],
   "source": [
    "from sklearn.naive_bayes import GaussianNB\n",
    "from sklearn.naive_bayes import MultinomialNB\n",
    "from sklearn.metrics import accuracy_score,confusion_matrix,classification_report"
   ]
  },
  {
   "cell_type": "code",
   "execution_count": 48,
   "id": "ea906614",
   "metadata": {},
   "outputs": [
    {
     "name": "stdout",
     "output_type": "stream",
     "text": [
      "0.6\n",
      "[[ 6  1  0  0  0  0  0  0]\n",
      " [ 9  6  0 41  0  1  1  0]\n",
      " [ 2  0  0 17  0  0  2  0]\n",
      " [ 0  0  0 51  0  0  0  0]\n",
      " [ 0  0  0  1  0  0  0  0]\n",
      " [ 1  1  0  2  0  0  1  0]\n",
      " [ 0  0  0  0  0  0 27  0]\n",
      " [ 0  0  0  0  0  0  0 30]]\n",
      "              precision    recall  f1-score   support\n",
      "\n",
      "           0       0.33      0.86      0.48         7\n",
      "           1       0.75      0.10      0.18        58\n",
      "           2       0.00      0.00      0.00        21\n",
      "           3       0.46      1.00      0.63        51\n",
      "           4       0.00      0.00      0.00         1\n",
      "           5       0.00      0.00      0.00         5\n",
      "           6       0.87      1.00      0.93        27\n",
      "           7       1.00      1.00      1.00        30\n",
      "\n",
      "    accuracy                           0.60       200\n",
      "   macro avg       0.43      0.50      0.40       200\n",
      "weighted avg       0.61      0.60      0.50       200\n",
      "\n"
     ]
    }
   ],
   "source": [
    "# Gaussian NB\n",
    "gnb=GaussianNB()\n",
    "gnb.fit(x_train,y_train)\n",
    "predict_gnb=gnb.predict(x_test)\n",
    "print(accuracy_score(y_test,predict_gnb))\n",
    "print(confusion_matrix(y_test,predict_gnb))\n",
    "print(classification_report(y_test,predict_gnb))"
   ]
  },
  {
   "cell_type": "code",
   "execution_count": 49,
   "id": "013c070b",
   "metadata": {},
   "outputs": [
    {
     "name": "stdout",
     "output_type": "stream",
     "text": [
      "0.61\n",
      "[[ 3  1  3  0  0  0  0  0]\n",
      " [ 7 30  2 17  1  1  0  0]\n",
      " [ 0  7  3 10  0  1  0  0]\n",
      " [ 0 12  9 30  0  0  0  0]\n",
      " [ 0  0  0  0  1  0  0  0]\n",
      " [ 0  3  0  2  0  0  0  0]\n",
      " [ 0  0  0  0  1  0 26  0]\n",
      " [ 0  0  0  0  0  0  1 29]]\n",
      "              precision    recall  f1-score   support\n",
      "\n",
      "           0       0.30      0.43      0.35         7\n",
      "           1       0.57      0.52      0.54        58\n",
      "           2       0.18      0.14      0.16        21\n",
      "           3       0.51      0.59      0.55        51\n",
      "           4       0.33      1.00      0.50         1\n",
      "           5       0.00      0.00      0.00         5\n",
      "           6       0.96      0.96      0.96        27\n",
      "           7       1.00      0.97      0.98        30\n",
      "\n",
      "    accuracy                           0.61       200\n",
      "   macro avg       0.48      0.58      0.51       200\n",
      "weighted avg       0.60      0.61      0.60       200\n",
      "\n"
     ]
    }
   ],
   "source": [
    "# Decision Tree Classification\n",
    "dtc=DecisionTreeClassifier()\n",
    "dtc.fit(x_train,y_train)\n",
    "dtc.score(x_train,y_train)\n",
    "pred_dtc=dtc.predict(x_test)\n",
    "print(accuracy_score(y_test,pred_dtc))\n",
    "print(confusion_matrix(y_test,pred_dtc))\n",
    "print(classification_report(y_test,pred_dtc))"
   ]
  },
  {
   "cell_type": "code",
   "execution_count": 50,
   "id": "d3826287",
   "metadata": {},
   "outputs": [
    {
     "name": "stdout",
     "output_type": "stream",
     "text": [
      "0.575\n",
      "[[ 4  2  0  0  0  0  0  1]\n",
      " [ 7 29  0 21  0  1  0  0]\n",
      " [ 2  9  2  8  0  0  0  0]\n",
      " [ 0 19  8 24  0  0  0  0]\n",
      " [ 0  0  0  1  0  0  0  0]\n",
      " [ 1  4  0  0  0  0  0  0]\n",
      " [ 0  0  0  0  0  0 26  1]\n",
      " [ 0  0  0  0  0  0  0 30]]\n",
      "              precision    recall  f1-score   support\n",
      "\n",
      "           0       0.29      0.57      0.38         7\n",
      "           1       0.46      0.50      0.48        58\n",
      "           2       0.20      0.10      0.13        21\n",
      "           3       0.44      0.47      0.46        51\n",
      "           4       0.00      0.00      0.00         1\n",
      "           5       0.00      0.00      0.00         5\n",
      "           6       1.00      0.96      0.98        27\n",
      "           7       0.94      1.00      0.97        30\n",
      "\n",
      "    accuracy                           0.57       200\n",
      "   macro avg       0.42      0.45      0.42       200\n",
      "weighted avg       0.55      0.57      0.56       200\n",
      "\n"
     ]
    }
   ],
   "source": [
    "kmn=KNeighborsClassifier(n_neighbors=5)\n",
    "kmn.fit(x_train,y_train)\n",
    "kmn.score(x_train,y_train)\n",
    "pred_kmn=kmn.predict(x_test)\n",
    "print(accuracy_score(y_test,pred_kmn))\n",
    "print(confusion_matrix(y_test,pred_kmn))\n",
    "print(classification_report(y_test,pred_kmn))"
   ]
  },
  {
   "cell_type": "code",
   "execution_count": 52,
   "id": "97638d21",
   "metadata": {},
   "outputs": [
    {
     "name": "stdout",
     "output_type": "stream",
     "text": [
      "At random state 86 The model perform very well\n",
      "At random_state:- 86\n",
      "Training accuracy score is  50.7\n",
      "Training accuracy score is  50.7 \n",
      "\n",
      "\n",
      "At random state 412 The model perform very well\n",
      "At random_state:- 412\n",
      "Training accuracy score is  52.9\n",
      "Training accuracy score is  52.9 \n",
      "\n",
      "\n",
      "At random state 499 The model perform very well\n",
      "At random_state:- 499\n",
      "Training accuracy score is  49.6\n",
      "Training accuracy score is  49.6 \n",
      "\n",
      "\n",
      "At random state 550 The model perform very well\n",
      "At random_state:- 550\n",
      "Training accuracy score is  51.5\n",
      "Training accuracy score is  51.5 \n",
      "\n",
      "\n",
      "At random state 565 The model perform very well\n",
      "At random_state:- 565\n",
      "Training accuracy score is  54.0\n",
      "Training accuracy score is  54.0 \n",
      "\n",
      "\n",
      "At random state 680 The model perform very well\n",
      "At random_state:- 680\n",
      "Training accuracy score is  53.7\n",
      "Training accuracy score is  53.7 \n",
      "\n",
      "\n",
      "At random state 709 The model perform very well\n",
      "At random_state:- 709\n",
      "Training accuracy score is  52.9\n",
      "Training accuracy score is  52.9 \n",
      "\n",
      "\n",
      "At random state 842 The model perform very well\n",
      "At random_state:- 842\n",
      "Training accuracy score is  51.5\n",
      "Training accuracy score is  51.5 \n",
      "\n",
      "\n"
     ]
    }
   ],
   "source": [
    "# Logistic Regression\n",
    "lr = LogisticRegression()\n",
    "for i in range(0,1000):\n",
    "    x_train,x_test,y_train,y_test = train_test_split(x,y,random_state=i,test_size=0.7)\n",
    "    lr.fit(x_train,y_train)\n",
    "    pred_train=lr.predict(x_train)\n",
    "    pred_test=lr.predict(x_test)\n",
    "    if round(accuracy_score(y_train,pred_train)*100,1)==round(accuracy_score(y_test,pred_test)*100,1):\n",
    "        print(\"At random state\", i,\"The model perform very well\")\n",
    "        print(\"At random_state:-\",i)\n",
    "        print(\"Training accuracy score is \", round(accuracy_score(y_train,pred_train)*100,1))\n",
    "        print(\"Training accuracy score is \", round(accuracy_score(y_test,pred_test)*100,1), '\\n\\n')"
   ]
  },
  {
   "cell_type": "code",
   "execution_count": 53,
   "id": "976318e4",
   "metadata": {},
   "outputs": [
    {
     "name": "stdout",
     "output_type": "stream",
     "text": [
      "At cv:  2\n",
      "Cross validation score is  47.295319504818586\n",
      "Accuracy score is  51.653543307086615\n",
      "\n",
      "\n",
      "At cv:  3\n",
      "Cross validation score is  49.390568195892435\n",
      "Accuracy score is  51.653543307086615\n",
      "\n",
      "\n",
      "At cv:  4\n",
      "Cross validation score is  51.592530505633306\n",
      "Accuracy score is  51.653543307086615\n",
      "\n",
      "\n",
      "At cv:  5\n",
      "Cross validation score is  50.04674883127922\n",
      "Accuracy score is  51.653543307086615\n",
      "\n",
      "\n",
      "At cv:  6\n",
      "Cross validation score is  50.49305797606599\n",
      "Accuracy score is  51.653543307086615\n",
      "\n",
      "\n",
      "At cv:  7\n",
      "Cross validation score is  50.26237328562909\n",
      "Accuracy score is  51.653543307086615\n",
      "\n",
      "\n",
      "At cv:  8\n",
      "Cross validation score is  50.71029343269679\n",
      "Accuracy score is  51.653543307086615\n",
      "\n",
      "\n",
      "At cv:  9\n",
      "Cross validation score is  50.601760176017606\n",
      "Accuracy score is  51.653543307086615\n",
      "\n",
      "\n"
     ]
    }
   ],
   "source": [
    "pred_lr = lr.predict(x_test)\n",
    "from sklearn.model_selection import cross_val_score\n",
    "lss = accuracy_score(y_test,pred_lr)\n",
    "for j in range(2,10):\n",
    "    lsscore = cross_val_score(lr,x,y,cv=j)\n",
    "    lsc = lsscore.mean()\n",
    "    print(\"At cv: \",j)\n",
    "    print(\"Cross validation score is \", lsc*100)\n",
    "    print(\"Accuracy score is \", lss*100)\n",
    "    print(\"\\n\")"
   ]
  },
  {
   "cell_type": "code",
   "execution_count": 54,
   "id": "ca1bfa8b",
   "metadata": {},
   "outputs": [
    {
     "name": "stdout",
     "output_type": "stream",
     "text": [
      "The cv score is  0.5049305797606599 \n",
      "The accuracy score is  0.5165354330708661\n"
     ]
    }
   ],
   "source": [
    "lsscore_selected = cross_val_score(lr,x,y,cv=6).mean()\n",
    "print(\"The cv score is \", lsscore_selected, \"\\nThe accuracy score is \", lss)"
   ]
  },
  {
   "cell_type": "code",
   "execution_count": 55,
   "id": "2a636bc9",
   "metadata": {},
   "outputs": [
    {
     "data": {
      "image/png": "[encoded data removed]",
      "text/plain": [
       "<Figure size 576x432 with 1 Axes>"
      ]
     },
     "metadata": {},
     "output_type": "display_data"
    }
   ],
   "source": [
    "plt.figure(figsize=(8,6))\n",
    "plt.scatter(x=y_test, y=pred_test, color='r')\n",
    "plt.plot(y_test,y_test, color='b')\n",
    "plt.xlabel('Actual Survive',fontsize=14)\n",
    "plt.ylabel('Predicted Survive',fontsize=14)\n",
    "plt.title('GaussianNB',fontsize=18)\n",
    "plt.show()"
   ]
  },
  {
   "cell_type": "code",
   "execution_count": 56,
   "id": "70f7160c",
   "metadata": {},
   "outputs": [
    {
     "data": {
      "text/plain": [
       "source         -0.135287\n",
       "gppd_idnr      -0.075317\n",
       "url            -0.046483\n",
       "primary_fuel    0.002102\n",
       "capacity_mw     1.000000\n",
       "country              NaN\n",
       "country_long         NaN\n",
       "Name: capacity_mw, dtype: float64"
      ]
     },
     "execution_count": 56,
     "metadata": {},
     "output_type": "execute_result"
    }
   ],
   "source": [
    "# Data Modelling with objective capacity mw\n",
    "df.corr()['capacity_mw'].sort_values()"
   ]
  },
  {
   "cell_type": "code",
   "execution_count": 57,
   "id": "4bd3ff03",
   "metadata": {},
   "outputs": [],
   "source": [
    "x=df.drop(\"capacity_mw\", axis=1)\n",
    "y=df[\"capacity_mw\"]"
   ]
  },
  {
   "cell_type": "code",
   "execution_count": 58,
   "id": "598dc6db",
   "metadata": {},
   "outputs": [],
   "source": [
    "from sklearn.preprocessing import MinMaxScaler\n",
    "mms=MinMaxScaler()\n",
    "from sklearn.linear_model import LinearRegression\n",
    "lr=LinearRegression()\n",
    "from sklearn.metrics import r2_score\n",
    "from sklearn.model_selection import train_test_split\n",
    "import warnings\n",
    "warnings.filterwarnings('ignore')"
   ]
  },
  {
   "cell_type": "code",
   "execution_count": 59,
   "id": "40accc1e",
   "metadata": {},
   "outputs": [
    {
     "name": "stdout",
     "output_type": "stream",
     "text": [
      "At random state 0, the training accuracy is 0.03235214618975102\n",
      "At random state 0, the testing accuracy is -0.03044511647840098\n",
      "\n",
      "\n",
      "At random state 1, the training accuracy is 0.03235214618975102\n",
      "At random state 1, the testing accuracy is -0.03044511647840098\n",
      "\n",
      "\n",
      "At random state 2, the training accuracy is 0.03235214618975102\n",
      "At random state 2, the testing accuracy is -0.03044511647840098\n",
      "\n",
      "\n",
      "At random state 3, the training accuracy is 0.03235214618975102\n",
      "At random state 3, the testing accuracy is -0.03044511647840098\n",
      "\n",
      "\n",
      "At random state 4, the training accuracy is 0.03235214618975102\n",
      "At random state 4, the testing accuracy is -0.03044511647840098\n",
      "\n",
      "\n",
      "At random state 5, the training accuracy is 0.03235214618975102\n",
      "At random state 5, the testing accuracy is -0.03044511647840098\n",
      "\n",
      "\n",
      "At random state 6, the training accuracy is 0.03235214618975102\n",
      "At random state 6, the testing accuracy is -0.03044511647840098\n",
      "\n",
      "\n",
      "At random state 7, the training accuracy is 0.03235214618975102\n",
      "At random state 7, the testing accuracy is -0.03044511647840098\n",
      "\n",
      "\n",
      "At random state 8, the training accuracy is 0.03235214618975102\n",
      "At random state 8, the testing accuracy is -0.03044511647840098\n",
      "\n",
      "\n",
      "At random state 9, the training accuracy is 0.03235214618975102\n",
      "At random state 9, the testing accuracy is -0.03044511647840098\n",
      "\n",
      "\n",
      "At random state 10, the training accuracy is 0.03235214618975102\n",
      "At random state 10, the testing accuracy is -0.03044511647840098\n",
      "\n",
      "\n",
      "At random state 11, the training accuracy is 0.03235214618975102\n",
      "At random state 11, the testing accuracy is -0.03044511647840098\n",
      "\n",
      "\n",
      "At random state 12, the training accuracy is 0.03235214618975102\n",
      "At random state 12, the testing accuracy is -0.03044511647840098\n",
      "\n",
      "\n",
      "At random state 13, the training accuracy is 0.03235214618975102\n",
      "At random state 13, the testing accuracy is -0.03044511647840098\n",
      "\n",
      "\n",
      "At random state 14, the training accuracy is 0.03235214618975102\n",
      "At random state 14, the testing accuracy is -0.03044511647840098\n",
      "\n",
      "\n",
      "At random state 15, the training accuracy is 0.03235214618975102\n",
      "At random state 15, the testing accuracy is -0.03044511647840098\n",
      "\n",
      "\n",
      "At random state 16, the training accuracy is 0.03235214618975102\n",
      "At random state 16, the testing accuracy is -0.03044511647840098\n",
      "\n",
      "\n",
      "At random state 17, the training accuracy is 0.03235214618975102\n",
      "At random state 17, the testing accuracy is -0.03044511647840098\n",
      "\n",
      "\n",
      "At random state 18, the training accuracy is 0.03235214618975102\n",
      "At random state 18, the testing accuracy is -0.03044511647840098\n",
      "\n",
      "\n",
      "At random state 19, the training accuracy is 0.03235214618975102\n",
      "At random state 19, the testing accuracy is -0.03044511647840098\n",
      "\n",
      "\n",
      "At random state 20, the training accuracy is 0.03235214618975102\n",
      "At random state 20, the testing accuracy is -0.03044511647840098\n",
      "\n",
      "\n",
      "At random state 21, the training accuracy is 0.03235214618975102\n",
      "At random state 21, the testing accuracy is -0.03044511647840098\n",
      "\n",
      "\n",
      "At random state 22, the training accuracy is 0.03235214618975102\n",
      "At random state 22, the testing accuracy is -0.03044511647840098\n",
      "\n",
      "\n",
      "At random state 23, the training accuracy is 0.03235214618975102\n",
      "At random state 23, the testing accuracy is -0.03044511647840098\n",
      "\n",
      "\n",
      "At random state 24, the training accuracy is 0.03235214618975102\n",
      "At random state 24, the testing accuracy is -0.03044511647840098\n",
      "\n",
      "\n",
      "At random state 25, the training accuracy is 0.03235214618975102\n",
      "At random state 25, the testing accuracy is -0.03044511647840098\n",
      "\n",
      "\n",
      "At random state 26, the training accuracy is 0.03235214618975102\n",
      "At random state 26, the testing accuracy is -0.03044511647840098\n",
      "\n",
      "\n",
      "At random state 27, the training accuracy is 0.03235214618975102\n",
      "At random state 27, the testing accuracy is -0.03044511647840098\n",
      "\n",
      "\n",
      "At random state 28, the training accuracy is 0.03235214618975102\n",
      "At random state 28, the testing accuracy is -0.03044511647840098\n",
      "\n",
      "\n",
      "At random state 29, the training accuracy is 0.03235214618975102\n",
      "At random state 29, the testing accuracy is -0.03044511647840098\n",
      "\n",
      "\n",
      "At random state 30, the training accuracy is 0.03235214618975102\n",
      "At random state 30, the testing accuracy is -0.03044511647840098\n",
      "\n",
      "\n",
      "At random state 31, the training accuracy is 0.03235214618975102\n",
      "At random state 31, the testing accuracy is -0.03044511647840098\n",
      "\n",
      "\n",
      "At random state 32, the training accuracy is 0.03235214618975102\n",
      "At random state 32, the testing accuracy is -0.03044511647840098\n",
      "\n",
      "\n",
      "At random state 33, the training accuracy is 0.03235214618975102\n",
      "At random state 33, the testing accuracy is -0.03044511647840098\n",
      "\n",
      "\n",
      "At random state 34, the training accuracy is 0.03235214618975102\n",
      "At random state 34, the testing accuracy is -0.03044511647840098\n",
      "\n",
      "\n",
      "At random state 35, the training accuracy is 0.03235214618975102\n",
      "At random state 35, the testing accuracy is -0.03044511647840098\n",
      "\n",
      "\n",
      "At random state 36, the training accuracy is 0.03235214618975102\n",
      "At random state 36, the testing accuracy is -0.03044511647840098\n",
      "\n",
      "\n",
      "At random state 37, the training accuracy is 0.03235214618975102\n",
      "At random state 37, the testing accuracy is -0.03044511647840098\n",
      "\n",
      "\n",
      "At random state 38, the training accuracy is 0.03235214618975102\n",
      "At random state 38, the testing accuracy is -0.03044511647840098\n",
      "\n",
      "\n",
      "At random state 39, the training accuracy is 0.03235214618975102\n",
      "At random state 39, the testing accuracy is -0.03044511647840098\n",
      "\n",
      "\n",
      "At random state 40, the training accuracy is 0.03235214618975102\n",
      "At random state 40, the testing accuracy is -0.03044511647840098\n",
      "\n",
      "\n",
      "At random state 41, the training accuracy is 0.03235214618975102\n",
      "At random state 41, the testing accuracy is -0.03044511647840098\n",
      "\n",
      "\n",
      "At random state 42, the training accuracy is 0.03235214618975102\n",
      "At random state 42, the testing accuracy is -0.03044511647840098\n",
      "\n",
      "\n",
      "At random state 43, the training accuracy is 0.03235214618975102\n",
      "At random state 43, the testing accuracy is -0.03044511647840098\n",
      "\n",
      "\n",
      "At random state 44, the training accuracy is 0.03235214618975102\n",
      "At random state 44, the testing accuracy is -0.03044511647840098\n",
      "\n",
      "\n",
      "At random state 45, the training accuracy is 0.03235214618975102\n",
      "At random state 45, the testing accuracy is -0.03044511647840098\n",
      "\n",
      "\n",
      "At random state 46, the training accuracy is 0.03235214618975102\n",
      "At random state 46, the testing accuracy is -0.03044511647840098\n",
      "\n",
      "\n",
      "At random state 47, the training accuracy is 0.03235214618975102\n",
      "At random state 47, the testing accuracy is -0.03044511647840098\n",
      "\n",
      "\n",
      "At random state 48, the training accuracy is 0.03235214618975102\n",
      "At random state 48, the testing accuracy is -0.03044511647840098\n",
      "\n",
      "\n",
      "At random state 49, the training accuracy is 0.03235214618975102\n",
      "At random state 49, the testing accuracy is -0.03044511647840098\n",
      "\n",
      "\n",
      "At random state 50, the training accuracy is 0.03235214618975102\n",
      "At random state 50, the testing accuracy is -0.03044511647840098\n",
      "\n",
      "\n",
      "At random state 51, the training accuracy is 0.03235214618975102\n",
      "At random state 51, the testing accuracy is -0.03044511647840098\n",
      "\n",
      "\n",
      "At random state 52, the training accuracy is 0.03235214618975102\n",
      "At random state 52, the testing accuracy is -0.03044511647840098\n",
      "\n",
      "\n",
      "At random state 53, the training accuracy is 0.03235214618975102\n",
      "At random state 53, the testing accuracy is -0.03044511647840098\n",
      "\n",
      "\n",
      "At random state 54, the training accuracy is 0.03235214618975102\n",
      "At random state 54, the testing accuracy is -0.03044511647840098\n",
      "\n",
      "\n",
      "At random state 55, the training accuracy is 0.03235214618975102\n",
      "At random state 55, the testing accuracy is -0.03044511647840098\n",
      "\n",
      "\n",
      "At random state 56, the training accuracy is 0.03235214618975102\n",
      "At random state 56, the testing accuracy is -0.03044511647840098\n",
      "\n",
      "\n",
      "At random state 57, the training accuracy is 0.03235214618975102\n",
      "At random state 57, the testing accuracy is -0.03044511647840098\n",
      "\n",
      "\n",
      "At random state 58, the training accuracy is 0.03235214618975102\n",
      "At random state 58, the testing accuracy is -0.03044511647840098\n",
      "\n",
      "\n",
      "At random state 59, the training accuracy is 0.03235214618975102\n",
      "At random state 59, the testing accuracy is -0.03044511647840098\n",
      "\n",
      "\n",
      "At random state 60, the training accuracy is 0.03235214618975102\n",
      "At random state 60, the testing accuracy is -0.03044511647840098\n",
      "\n",
      "\n",
      "At random state 61, the training accuracy is 0.03235214618975102\n",
      "At random state 61, the testing accuracy is -0.03044511647840098\n",
      "\n",
      "\n",
      "At random state 62, the training accuracy is 0.03235214618975102\n",
      "At random state 62, the testing accuracy is -0.03044511647840098\n",
      "\n",
      "\n",
      "At random state 63, the training accuracy is 0.03235214618975102\n",
      "At random state 63, the testing accuracy is -0.03044511647840098\n",
      "\n",
      "\n",
      "At random state 64, the training accuracy is 0.03235214618975102\n",
      "At random state 64, the testing accuracy is -0.03044511647840098\n",
      "\n",
      "\n",
      "At random state 65, the training accuracy is 0.03235214618975102\n",
      "At random state 65, the testing accuracy is -0.03044511647840098\n",
      "\n",
      "\n",
      "At random state 66, the training accuracy is 0.03235214618975102\n",
      "At random state 66, the testing accuracy is -0.03044511647840098\n",
      "\n",
      "\n",
      "At random state 67, the training accuracy is 0.03235214618975102\n",
      "At random state 67, the testing accuracy is -0.03044511647840098\n",
      "\n",
      "\n",
      "At random state 68, the training accuracy is 0.03235214618975102\n",
      "At random state 68, the testing accuracy is -0.03044511647840098\n",
      "\n",
      "\n",
      "At random state 69, the training accuracy is 0.03235214618975102\n",
      "At random state 69, the testing accuracy is -0.03044511647840098\n",
      "\n",
      "\n",
      "At random state 70, the training accuracy is 0.03235214618975102\n",
      "At random state 70, the testing accuracy is -0.03044511647840098\n",
      "\n",
      "\n",
      "At random state 71, the training accuracy is 0.03235214618975102\n",
      "At random state 71, the testing accuracy is -0.03044511647840098\n",
      "\n",
      "\n",
      "At random state 72, the training accuracy is 0.03235214618975102\n",
      "At random state 72, the testing accuracy is -0.03044511647840098\n",
      "\n",
      "\n",
      "At random state 73, the training accuracy is 0.03235214618975102\n",
      "At random state 73, the testing accuracy is -0.03044511647840098\n",
      "\n",
      "\n",
      "At random state 74, the training accuracy is 0.03235214618975102\n",
      "At random state 74, the testing accuracy is -0.03044511647840098\n",
      "\n",
      "\n",
      "At random state 75, the training accuracy is 0.03235214618975102\n",
      "At random state 75, the testing accuracy is -0.03044511647840098\n",
      "\n",
      "\n",
      "At random state 76, the training accuracy is 0.03235214618975102\n",
      "At random state 76, the testing accuracy is -0.03044511647840098\n",
      "\n",
      "\n",
      "At random state 77, the training accuracy is 0.03235214618975102\n",
      "At random state 77, the testing accuracy is -0.03044511647840098\n",
      "\n",
      "\n",
      "At random state 78, the training accuracy is 0.03235214618975102\n",
      "At random state 78, the testing accuracy is -0.03044511647840098\n",
      "\n",
      "\n",
      "At random state 79, the training accuracy is 0.03235214618975102\n",
      "At random state 79, the testing accuracy is -0.03044511647840098\n",
      "\n",
      "\n",
      "At random state 80, the training accuracy is 0.03235214618975102\n",
      "At random state 80, the testing accuracy is -0.03044511647840098\n",
      "\n",
      "\n",
      "At random state 81, the training accuracy is 0.03235214618975102\n",
      "At random state 81, the testing accuracy is -0.03044511647840098\n",
      "\n",
      "\n",
      "At random state 82, the training accuracy is 0.03235214618975102\n",
      "At random state 82, the testing accuracy is -0.03044511647840098\n",
      "\n",
      "\n",
      "At random state 83, the training accuracy is 0.03235214618975102\n",
      "At random state 83, the testing accuracy is -0.03044511647840098\n",
      "\n",
      "\n",
      "At random state 84, the training accuracy is 0.03235214618975102\n",
      "At random state 84, the testing accuracy is -0.03044511647840098\n",
      "\n",
      "\n",
      "At random state 85, the training accuracy is 0.03235214618975102\n",
      "At random state 85, the testing accuracy is -0.03044511647840098\n",
      "\n",
      "\n",
      "At random state 86, the training accuracy is 0.03235214618975102\n",
      "At random state 86, the testing accuracy is -0.03044511647840098\n",
      "\n",
      "\n",
      "At random state 87, the training accuracy is 0.03235214618975102\n",
      "At random state 87, the testing accuracy is -0.03044511647840098\n",
      "\n",
      "\n",
      "At random state 88, the training accuracy is 0.03235214618975102\n",
      "At random state 88, the testing accuracy is -0.03044511647840098\n",
      "\n",
      "\n",
      "At random state 89, the training accuracy is 0.03235214618975102\n",
      "At random state 89, the testing accuracy is -0.03044511647840098\n",
      "\n",
      "\n",
      "At random state 90, the training accuracy is 0.03235214618975102\n",
      "At random state 90, the testing accuracy is -0.03044511647840098\n",
      "\n",
      "\n",
      "At random state 91, the training accuracy is 0.03235214618975102\n",
      "At random state 91, the testing accuracy is -0.03044511647840098\n",
      "\n",
      "\n",
      "At random state 92, the training accuracy is 0.03235214618975102\n",
      "At random state 92, the testing accuracy is -0.03044511647840098\n",
      "\n",
      "\n",
      "At random state 93, the training accuracy is 0.03235214618975102\n",
      "At random state 93, the testing accuracy is -0.03044511647840098\n",
      "\n",
      "\n",
      "At random state 94, the training accuracy is 0.03235214618975102\n",
      "At random state 94, the testing accuracy is -0.03044511647840098\n",
      "\n",
      "\n",
      "At random state 95, the training accuracy is 0.03235214618975102\n",
      "At random state 95, the testing accuracy is -0.03044511647840098\n",
      "\n",
      "\n",
      "At random state 96, the training accuracy is 0.03235214618975102\n",
      "At random state 96, the testing accuracy is -0.03044511647840098\n",
      "\n",
      "\n",
      "At random state 97, the training accuracy is 0.03235214618975102\n",
      "At random state 97, the testing accuracy is -0.03044511647840098\n",
      "\n",
      "\n",
      "At random state 98, the training accuracy is 0.03235214618975102\n",
      "At random state 98, the testing accuracy is -0.03044511647840098\n",
      "\n",
      "\n",
      "At random state 99, the training accuracy is 0.03235214618975102\n",
      "At random state 99, the testing accuracy is -0.03044511647840098\n",
      "\n",
      "\n"
     ]
    }
   ],
   "source": [
    "for i in range(0,100):\n",
    "    x_train,x_test,y_train,y_test = train_test_split(x,y,test_size=0.2,random_state=43)\n",
    "    lr.fit(x_train,y_train)\n",
    "    pred_train=lr.predict(x_train)\n",
    "    pred_test = lr.predict(x_test)\n",
    "    print(f\"At random state {i}, the training accuracy is {r2_score(y_train,pred_train)}\")\n",
    "    print(f\"At random state {i}, the testing accuracy is {r2_score(y_test,pred_test)}\")\n",
    "    print(\"\\n\")"
   ]
  },
  {
   "cell_type": "code",
   "execution_count": 60,
   "id": "f4e39672",
   "metadata": {},
   "outputs": [
    {
     "name": "stdout",
     "output_type": "stream",
     "text": [
      "{'alpha': 0.001, 'random_state': 0}\n"
     ]
    }
   ],
   "source": [
    "parameters = {'alpha':[.001, .01, .1, 1, 10], 'random_state': list(range(0,10))}\n",
    "ls = Lasso()\n",
    "clf= GridSearchCV(ls,parameters)\n",
    "clf.fit(x_train,y_train)\n",
    "print(clf.best_params_)"
   ]
  },
  {
   "cell_type": "code",
   "execution_count": 61,
   "id": "f9746aec",
   "metadata": {},
   "outputs": [
    {
     "data": {
      "text/plain": [
       "3.0776138088480787"
      ]
     },
     "execution_count": 61,
     "metadata": {},
     "output_type": "execute_result"
    }
   ],
   "source": [
    "ls=Lasso(alpha=10,random_state=0)\n",
    "ls.fit(x_train,y_train)\n",
    "ls_score_training=ls.score(x_train,y_train)\n",
    "pred_ls = ls.predict(x_test)\n",
    "ls_score_training*100"
   ]
  },
  {
   "cell_type": "code",
   "execution_count": 62,
   "id": "1a10fdd7",
   "metadata": {},
   "outputs": [
    {
     "data": {
      "text/plain": [
       "-3.0432449651013993"
      ]
     },
     "execution_count": 62,
     "metadata": {},
     "output_type": "execute_result"
    }
   ],
   "source": [
    "pred_ls=ls.predict(x_test)\n",
    "lss=r2_score(y_test,pred_ls)\n",
    "lss*100"
   ]
  },
  {
   "cell_type": "code",
   "execution_count": 63,
   "id": "e710cddf",
   "metadata": {},
   "outputs": [
    {
     "data": {
      "text/plain": [
       "1.0747699493098728"
      ]
     },
     "execution_count": 63,
     "metadata": {},
     "output_type": "execute_result"
    }
   ],
   "source": [
    "cv_score = cross_val_score(ls,x,y,cv=5)\n",
    "cv_mean = cv_score.mean()\n",
    "cv_mean*100"
   ]
  },
  {
   "cell_type": "code",
   "execution_count": 64,
   "id": "30f42a8d",
   "metadata": {},
   "outputs": [
    {
     "name": "stdout",
     "output_type": "stream",
     "text": [
      "{'criterion': 'mae', 'max_features': 'auto'}\n"
     ]
    }
   ],
   "source": [
    "\n",
    "parameters = {'criterion':['mse','mae'],'max_features':['auto','sqrt','log2']}\n",
    "rf = RandomForestRegressor()\n",
    "clf = GridSearchCV(rf,parameters)\n",
    "clf.fit(x_train,y_train)\n",
    "\n",
    "print(clf.best_params_)"
   ]
  },
  {
   "cell_type": "code",
   "execution_count": 65,
   "id": "05b03079",
   "metadata": {},
   "outputs": [
    {
     "name": "stdout",
     "output_type": "stream",
     "text": [
      "R2 Score:  -38.804788545908785\n",
      "Cross Val Score:  -29.662162268188418\n"
     ]
    }
   ],
   "source": [
    "rf = RandomForestRegressor(criterion=\"mse\",max_features=\"sqrt\")\n",
    "rf.fit(x_train, y_train)\n",
    "rf.score(x_train,y_train)\n",
    "pred_decision = rf.predict(x_test)\n",
    "\n",
    "rfs = r2_score(y_test,pred_decision) \n",
    "print('R2 Score: ',rfs*100)\n",
    "\n",
    "rfscore = cross_val_score(rf,x,y,cv=5)\n",
    "rfc = rfscore.mean()\n",
    "print('Cross Val Score: ',rfc*100)"
   ]
  },
  {
   "cell_type": "code",
   "execution_count": null,
   "id": "5b5975fe",
   "metadata": {},
   "outputs": [],
   "source": []
  }
 ],
 "metadata": {
  "kernelspec": {
   "display_name": "Python 3 (ipykernel)",
   "language": "python",
   "name": "python3"
  },
  "language_info": {
   "codemirror_mode": {
    "name": "ipython",
    "version": 3
   },
   "file_extension": ".py",
   "mimetype": "text/x-python",
   "name": "python",
   "nbconvert_exporter": "python",
   "pygments_lexer": "ipython3",
   "version": "3.9.7"
  }
 },
 "nbformat": 4,
 "nbformat_minor": 5
}
